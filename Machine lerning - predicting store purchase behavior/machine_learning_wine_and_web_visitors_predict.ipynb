{
  "nbformat": 4,
  "nbformat_minor": 0,
  "metadata": {
    "kernelspec": {
      "display_name": "Python 3",
      "language": "python",
      "name": "python3"
    },
    "language_info": {
      "codemirror_mode": {
        "name": "ipython",
        "version": 3
      },
      "file_extension": ".py",
      "mimetype": "text/x-python",
      "name": "python",
      "nbconvert_exporter": "python",
      "pygments_lexer": "ipython3",
      "version": "3.9.1"
    },
    "colab": {
      "name": "machine-learning-wine-and-web-visitors-predict.ipynb",
      "provenance": []
    }
  },
  "cells": [
    {
      "cell_type": "markdown",
      "metadata": {
        "id": "bjBK515Y5S27"
      },
      "source": [
        "## Machine Learning\n",
        "\n",
        "Analyzing a store database and using machine learning to check:\n",
        "- do website visitors generate online, offline or catalog sales?\n",
        "- how much do people that buy meat spend in wine?"
      ]
    },
    {
      "cell_type": "code",
      "metadata": {
        "_cell_guid": "79c7e3d0-c299-4dcb-8224-4455121ee9b0",
        "_uuid": "d629ff2d2480ee46fbb7e2d37f6b5fab8052498a",
        "id": "t1PSXBtJ5S3G"
      },
      "source": [
        "import numpy as np\n",
        "import pandas as pd\n",
        "import matplotlib.pyplot as plt\n",
        "from matplotlib.pyplot import figure\n",
        "import seaborn as sns\n",
        "from sklearn import linear_model\n",
        "from sklearn.metrics import r2_score\n",
        "from sklearn import linear_model"
      ],
      "execution_count": 27,
      "outputs": []
    },
    {
      "cell_type": "code",
      "metadata": {
        "id": "zRaToUUw5S3J"
      },
      "source": [
        "data = pd.read_csv(\"https://raw.githubusercontent.com/isadoramuller/datascience/main/marketing_campaign.csv\")"
      ],
      "execution_count": 28,
      "outputs": []
    },
    {
      "cell_type": "code",
      "metadata": {
        "tags": [],
        "colab": {
          "base_uri": "https://localhost:8080/",
          "height": 223
        },
        "id": "bfoE1s_85S3K",
        "outputId": "2c2f9b97-b724-4d6a-b65b-57e8a51b9643"
      },
      "source": [
        "data.head(5)"
      ],
      "execution_count": 29,
      "outputs": [
        {
          "output_type": "execute_result",
          "data": {
            "text/html": [
              "<div>\n",
              "<style scoped>\n",
              "    .dataframe tbody tr th:only-of-type {\n",
              "        vertical-align: middle;\n",
              "    }\n",
              "\n",
              "    .dataframe tbody tr th {\n",
              "        vertical-align: top;\n",
              "    }\n",
              "\n",
              "    .dataframe thead th {\n",
              "        text-align: right;\n",
              "    }\n",
              "</style>\n",
              "<table border=\"1\" class=\"dataframe\">\n",
              "  <thead>\n",
              "    <tr style=\"text-align: right;\">\n",
              "      <th></th>\n",
              "      <th>ID</th>\n",
              "      <th>Year_Birth</th>\n",
              "      <th>Education</th>\n",
              "      <th>Marital_Status</th>\n",
              "      <th>Income</th>\n",
              "      <th>Kidhome</th>\n",
              "      <th>Teenhome</th>\n",
              "      <th>Dt_Customer</th>\n",
              "      <th>Recency</th>\n",
              "      <th>MntWines</th>\n",
              "      <th>MntFruits</th>\n",
              "      <th>MntMeatProducts</th>\n",
              "      <th>MntFishProducts</th>\n",
              "      <th>MntSweetProducts</th>\n",
              "      <th>MntGoldProds</th>\n",
              "      <th>NumDealsPurchases</th>\n",
              "      <th>NumWebPurchases</th>\n",
              "      <th>NumCatalogPurchases</th>\n",
              "      <th>NumStorePurchases</th>\n",
              "      <th>NumWebVisitsMonth</th>\n",
              "      <th>AcceptedCmp3</th>\n",
              "      <th>AcceptedCmp4</th>\n",
              "      <th>AcceptedCmp5</th>\n",
              "      <th>AcceptedCmp1</th>\n",
              "      <th>AcceptedCmp2</th>\n",
              "      <th>Complain</th>\n",
              "      <th>Z_CostContact</th>\n",
              "      <th>Z_Revenue</th>\n",
              "      <th>Response</th>\n",
              "    </tr>\n",
              "  </thead>\n",
              "  <tbody>\n",
              "    <tr>\n",
              "      <th>0</th>\n",
              "      <td>6862</td>\n",
              "      <td>1971</td>\n",
              "      <td>Graduation</td>\n",
              "      <td>Divorced</td>\n",
              "      <td>1730</td>\n",
              "      <td>0</td>\n",
              "      <td>0</td>\n",
              "      <td>5/18/2014</td>\n",
              "      <td>65</td>\n",
              "      <td>1</td>\n",
              "      <td>1</td>\n",
              "      <td>3</td>\n",
              "      <td>1</td>\n",
              "      <td>1</td>\n",
              "      <td>1</td>\n",
              "      <td>15</td>\n",
              "      <td>0</td>\n",
              "      <td>0</td>\n",
              "      <td>0</td>\n",
              "      <td>20</td>\n",
              "      <td>0</td>\n",
              "      <td>0</td>\n",
              "      <td>0</td>\n",
              "      <td>0</td>\n",
              "      <td>0</td>\n",
              "      <td>0</td>\n",
              "      <td>3</td>\n",
              "      <td>11</td>\n",
              "      <td>0</td>\n",
              "    </tr>\n",
              "    <tr>\n",
              "      <th>1</th>\n",
              "      <td>5376</td>\n",
              "      <td>1979</td>\n",
              "      <td>Graduation</td>\n",
              "      <td>Married</td>\n",
              "      <td>2447</td>\n",
              "      <td>1</td>\n",
              "      <td>0</td>\n",
              "      <td>1/6/2013</td>\n",
              "      <td>42</td>\n",
              "      <td>1</td>\n",
              "      <td>1</td>\n",
              "      <td>1725</td>\n",
              "      <td>1</td>\n",
              "      <td>1</td>\n",
              "      <td>1</td>\n",
              "      <td>15</td>\n",
              "      <td>0</td>\n",
              "      <td>28</td>\n",
              "      <td>0</td>\n",
              "      <td>1</td>\n",
              "      <td>0</td>\n",
              "      <td>0</td>\n",
              "      <td>0</td>\n",
              "      <td>0</td>\n",
              "      <td>0</td>\n",
              "      <td>0</td>\n",
              "      <td>3</td>\n",
              "      <td>11</td>\n",
              "      <td>0</td>\n",
              "    </tr>\n",
              "    <tr>\n",
              "      <th>2</th>\n",
              "      <td>11110</td>\n",
              "      <td>1973</td>\n",
              "      <td>Graduation</td>\n",
              "      <td>Single</td>\n",
              "      <td>3502</td>\n",
              "      <td>1</td>\n",
              "      <td>0</td>\n",
              "      <td>4/13/2013</td>\n",
              "      <td>56</td>\n",
              "      <td>2</td>\n",
              "      <td>1</td>\n",
              "      <td>1</td>\n",
              "      <td>0</td>\n",
              "      <td>0</td>\n",
              "      <td>1</td>\n",
              "      <td>0</td>\n",
              "      <td>0</td>\n",
              "      <td>0</td>\n",
              "      <td>0</td>\n",
              "      <td>14</td>\n",
              "      <td>0</td>\n",
              "      <td>0</td>\n",
              "      <td>0</td>\n",
              "      <td>0</td>\n",
              "      <td>0</td>\n",
              "      <td>0</td>\n",
              "      <td>3</td>\n",
              "      <td>11</td>\n",
              "      <td>0</td>\n",
              "    </tr>\n",
              "    <tr>\n",
              "      <th>3</th>\n",
              "      <td>9931</td>\n",
              "      <td>1963</td>\n",
              "      <td>PhD</td>\n",
              "      <td>Married</td>\n",
              "      <td>4023</td>\n",
              "      <td>1</td>\n",
              "      <td>1</td>\n",
              "      <td>6/23/2014</td>\n",
              "      <td>29</td>\n",
              "      <td>5</td>\n",
              "      <td>0</td>\n",
              "      <td>1</td>\n",
              "      <td>1</td>\n",
              "      <td>1</td>\n",
              "      <td>1</td>\n",
              "      <td>15</td>\n",
              "      <td>0</td>\n",
              "      <td>0</td>\n",
              "      <td>0</td>\n",
              "      <td>19</td>\n",
              "      <td>0</td>\n",
              "      <td>0</td>\n",
              "      <td>0</td>\n",
              "      <td>0</td>\n",
              "      <td>0</td>\n",
              "      <td>0</td>\n",
              "      <td>3</td>\n",
              "      <td>11</td>\n",
              "      <td>0</td>\n",
              "    </tr>\n",
              "    <tr>\n",
              "      <th>4</th>\n",
              "      <td>10311</td>\n",
              "      <td>1969</td>\n",
              "      <td>Graduation</td>\n",
              "      <td>Married</td>\n",
              "      <td>4428</td>\n",
              "      <td>0</td>\n",
              "      <td>1</td>\n",
              "      <td>10/5/2013</td>\n",
              "      <td>0</td>\n",
              "      <td>16</td>\n",
              "      <td>4</td>\n",
              "      <td>12</td>\n",
              "      <td>2</td>\n",
              "      <td>4</td>\n",
              "      <td>321</td>\n",
              "      <td>0</td>\n",
              "      <td>25</td>\n",
              "      <td>0</td>\n",
              "      <td>0</td>\n",
              "      <td>1</td>\n",
              "      <td>0</td>\n",
              "      <td>0</td>\n",
              "      <td>0</td>\n",
              "      <td>0</td>\n",
              "      <td>0</td>\n",
              "      <td>0</td>\n",
              "      <td>3</td>\n",
              "      <td>11</td>\n",
              "      <td>0</td>\n",
              "    </tr>\n",
              "  </tbody>\n",
              "</table>\n",
              "</div>"
            ],
            "text/plain": [
              "      ID  Year_Birth   Education  ... Z_CostContact  Z_Revenue  Response\n",
              "0   6862        1971  Graduation  ...             3         11         0\n",
              "1   5376        1979  Graduation  ...             3         11         0\n",
              "2  11110        1973  Graduation  ...             3         11         0\n",
              "3   9931        1963         PhD  ...             3         11         0\n",
              "4  10311        1969  Graduation  ...             3         11         0\n",
              "\n",
              "[5 rows x 29 columns]"
            ]
          },
          "metadata": {},
          "execution_count": 29
        }
      ]
    },
    {
      "cell_type": "markdown",
      "metadata": {
        "id": "SrF_Oi265S3M"
      },
      "source": [
        "#### Multiple linear regression"
      ]
    },
    {
      "cell_type": "code",
      "metadata": {
        "id": "sIW0koHs5S3O"
      },
      "source": [
        "X = data[['NumStorePurchases', 'NumWebPurchases', 'NumWebVisitsMonth', 'Income', 'NumCatalogPurchases']]\n",
        "\n",
        "Y = data[\"MntWines\"]"
      ],
      "execution_count": 30,
      "outputs": []
    },
    {
      "cell_type": "code",
      "metadata": {
        "id": "AXLL__1g5S3P"
      },
      "source": [
        "train = data[:(int((len(data)*0.8)))]\n",
        "test = data[:(int((len(data)*0.8)))]"
      ],
      "execution_count": 31,
      "outputs": []
    },
    {
      "cell_type": "code",
      "metadata": {
        "id": "h6625zBT5S3R"
      },
      "source": [
        "regr = linear_model.LinearRegression()\n",
        "\n",
        "train_x = np.array(train[['NumStorePurchases', 'NumWebPurchases', 'NumWebVisitsMonth', 'Income', 'NumCatalogPurchases']])\n",
        "train_y = np.array(train[\"MntWines\"])\n",
        "regr.fit(train_x,train_y)\n",
        "\n",
        "test_x = np.array(test[['NumStorePurchases', 'NumWebPurchases', 'NumWebVisitsMonth', 'Income', 'NumCatalogPurchases']])\n",
        "test_y = np.array(test[\"MntWines\"])"
      ],
      "execution_count": 32,
      "outputs": []
    },
    {
      "cell_type": "code",
      "metadata": {
        "colab": {
          "base_uri": "https://localhost:8080/",
          "height": 203
        },
        "id": "J4k2mgx15S3T",
        "outputId": "f91475aa-e202-4c6d-af0b-f5ae05ee41be"
      },
      "source": [
        "coeff_data = pd.DataFrame(regr.coef_ , X.columns , columns=[\"Coef\"])\n",
        "coeff_data"
      ],
      "execution_count": 33,
      "outputs": [
        {
          "output_type": "execute_result",
          "data": {
            "text/html": [
              "<div>\n",
              "<style scoped>\n",
              "    .dataframe tbody tr th:only-of-type {\n",
              "        vertical-align: middle;\n",
              "    }\n",
              "\n",
              "    .dataframe tbody tr th {\n",
              "        vertical-align: top;\n",
              "    }\n",
              "\n",
              "    .dataframe thead th {\n",
              "        text-align: right;\n",
              "    }\n",
              "</style>\n",
              "<table border=\"1\" class=\"dataframe\">\n",
              "  <thead>\n",
              "    <tr style=\"text-align: right;\">\n",
              "      <th></th>\n",
              "      <th>Coef</th>\n",
              "    </tr>\n",
              "  </thead>\n",
              "  <tbody>\n",
              "    <tr>\n",
              "      <th>NumStorePurchases</th>\n",
              "      <td>26.096011</td>\n",
              "    </tr>\n",
              "    <tr>\n",
              "      <th>NumWebPurchases</th>\n",
              "      <td>13.457526</td>\n",
              "    </tr>\n",
              "    <tr>\n",
              "      <th>NumWebVisitsMonth</th>\n",
              "      <td>31.507754</td>\n",
              "    </tr>\n",
              "    <tr>\n",
              "      <th>Income</th>\n",
              "      <td>0.005323</td>\n",
              "    </tr>\n",
              "    <tr>\n",
              "      <th>NumCatalogPurchases</th>\n",
              "      <td>45.435481</td>\n",
              "    </tr>\n",
              "  </tbody>\n",
              "</table>\n",
              "</div>"
            ],
            "text/plain": [
              "                          Coef\n",
              "NumStorePurchases    26.096011\n",
              "NumWebPurchases      13.457526\n",
              "NumWebVisitsMonth    31.507754\n",
              "Income                0.005323\n",
              "NumCatalogPurchases  45.435481"
            ]
          },
          "metadata": {},
          "execution_count": 33
        }
      ]
    },
    {
      "cell_type": "markdown",
      "metadata": {
        "id": "5Ng6fDSg5S3V"
      },
      "source": [
        "Buying wine is more related to local stores than with online stores. However, catalogs are more related to wine purchase."
      ]
    },
    {
      "cell_type": "code",
      "metadata": {
        "id": "zzFN0CHm5S3W"
      },
      "source": [
        "Y_pred = regr.predict(test_x)"
      ],
      "execution_count": 34,
      "outputs": []
    },
    {
      "cell_type": "code",
      "metadata": {
        "colab": {
          "base_uri": "https://localhost:8080/"
        },
        "id": "mKJFkv2X5S3X",
        "outputId": "0ab7197b-f033-4435-fb26-3de2170f2378"
      },
      "source": [
        "R = r2_score(test_y , Y_pred)\n",
        "print (\"R^2\", R)"
      ],
      "execution_count": 35,
      "outputs": [
        {
          "output_type": "stream",
          "name": "stdout",
          "text": [
            "R^2 0.7215356854266062\n"
          ]
        }
      ]
    },
    {
      "cell_type": "markdown",
      "metadata": {
        "id": "kq6X2NLJ5S3Z"
      },
      "source": [
        "Accuracy is 72.1%\n",
        "\n"
      ]
    },
    {
      "cell_type": "markdown",
      "metadata": {
        "id": "Q3ToD6Y45S3Z"
      },
      "source": [
        "#### Simple linear regression\n",
        "\n",
        "Checking:\n",
        "- Meat spend vs wine spent\n",
        "-  website visits vs sales in different PoS."
      ]
    },
    {
      "cell_type": "code",
      "metadata": {
        "colab": {
          "base_uri": "https://localhost:8080/",
          "height": 296
        },
        "id": "Occx2VSG5S3a",
        "outputId": "1d3b0982-5d48-4e1b-84c9-29eb8b774af1"
      },
      "source": [
        "%matplotlib inline\n",
        "plt.xlabel('MntMeatProducts')\n",
        "plt.ylabel('MntWines')\n",
        "plt.scatter(data.MntMeatProducts,data.MntWines, color='red',marker='+')"
      ],
      "execution_count": 36,
      "outputs": [
        {
          "output_type": "execute_result",
          "data": {
            "text/plain": [
              "<matplotlib.collections.PathCollection at 0x7fc04fa6f310>"
            ]
          },
          "metadata": {},
          "execution_count": 36
        },
        {
          "output_type": "display_data",
          "data": {
            "image/png": "[encoded data removed]",
            "text/plain": [
              "<Figure size 432x288 with 1 Axes>"
            ]
          },
          "metadata": {
            "needs_background": "light"
          }
        }
      ]
    },
    {
      "cell_type": "code",
      "metadata": {
        "colab": {
          "base_uri": "https://localhost:8080/"
        },
        "id": "aolXSlFk5S3b",
        "outputId": "96499456-bdba-4bb7-e2c5-6c1c159784bb"
      },
      "source": [
        "regr = linear_model.LinearRegression()\n",
        "\n",
        "train_x = np.array(train[[\"MntMeatProducts\"]])\n",
        "train_y = np.array(train[[\"MntWines\"]])\n",
        "\n",
        "regr.fit(train_x, train_y)\n",
        "\n",
        "print (\"Coef \",regr.coef_)\n",
        "print (\"Intercept \",regr.intercept_)"
      ],
      "execution_count": 47,
      "outputs": [
        {
          "output_type": "stream",
          "name": "stdout",
          "text": [
            "Coef  [[1.08721767]]\n",
            "Intercept  [117.48495945]\n"
          ]
        }
      ]
    },
    {
      "cell_type": "code",
      "metadata": {
        "id": "MGjUyFHR5S3c"
      },
      "source": [
        "def get_regression_predictions(input_features,intercept,slope):\n",
        "    predicted_values = input_features*slope + intercept\n",
        "    \n",
        "    return predicted_values"
      ],
      "execution_count": 48,
      "outputs": []
    },
    {
      "cell_type": "code",
      "metadata": {
        "colab": {
          "base_uri": "https://localhost:8080/"
        },
        "id": "w1USQhtE5S3d",
        "outputId": "c54e6303-c810-49b1-b409-384a457914f9"
      },
      "source": [
        "meat = 1000\n",
        "compras_vs_web_visit = get_regression_predictions(meat,regr.intercept_[0],regr.coef_[0][0])\n",
        "print (\"Estimated:\",compras_vs_web_visit)"
      ],
      "execution_count": 50,
      "outputs": [
        {
          "output_type": "stream",
          "name": "stdout",
          "text": [
            "Estimated: 1204.7026330508845\n"
          ]
        }
      ]
    },
    {
      "cell_type": "markdown",
      "metadata": {
        "id": "GiQI6GOF7Mmj"
      },
      "source": [
        "Web visits vs. ..........."
      ]
    },
    {
      "cell_type": "code",
      "metadata": {
        "colab": {
          "base_uri": "https://localhost:8080/"
        },
        "id": "KL1a8l7k5S3f",
        "outputId": "34fbff0f-ec4a-437f-a07c-8a56bc1cf8d5"
      },
      "source": [
        "#...website purchases\n",
        "\n",
        "regr = linear_model.LinearRegression()\n",
        "\n",
        "train_x = np.array(train[[\"NumWebVisitsMonth\"]])\n",
        "train_y = np.array(train[[\"NumWebPurchases\"]])\n",
        "\n",
        "regr.fit(train_x, train_y)\n",
        "\n",
        "print (\"Coef \",regr.coef_)\n",
        "print (\"Intercept \",regr.intercept_)"
      ],
      "execution_count": 51,
      "outputs": [
        {
          "output_type": "stream",
          "name": "stdout",
          "text": [
            "Coef  [[-0.00197374]]\n",
            "Intercept  [3.8131378]\n"
          ]
        }
      ]
    },
    {
      "cell_type": "code",
      "metadata": {
        "id": "jIGWBITO5S3f"
      },
      "source": [
        "def get_regression_predictions(input_features,intercept,slope):\n",
        "    predicted_values = input_features*slope + intercept\n",
        "    \n",
        "    return predicted_values"
      ],
      "execution_count": 52,
      "outputs": []
    },
    {
      "cell_type": "code",
      "metadata": {
        "colab": {
          "base_uri": "https://localhost:8080/"
        },
        "id": "O4a3IyGw5S3g",
        "outputId": "2199d347-8c36-4994-d99d-2ee8b905f411"
      },
      "source": [
        "visitas_site = 5\n",
        "compras_vs_web_visit = get_regression_predictions(visitas_site,regr.intercept_[0],regr.coef_[0][0])\n",
        "print (\"Estimated:\",compras_vs_web_visit)"
      ],
      "execution_count": 53,
      "outputs": [
        {
          "output_type": "stream",
          "name": "stdout",
          "text": [
            "Estimated: 3.803269106027024\n"
          ]
        }
      ]
    },
    {
      "cell_type": "code",
      "metadata": {
        "colab": {
          "base_uri": "https://localhost:8080/"
        },
        "id": "2Td2oCou5S3h",
        "outputId": "c8fbce63-7948-4bce-d7f1-d2146062eb3b"
      },
      "source": [
        "#...local stores\n",
        "\n",
        "regr = linear_model.LinearRegression()\n",
        "\n",
        "train_x = np.array(train[[\"NumWebVisitsMonth\"]])\n",
        "train_y = np.array(train[[\"NumStorePurchases\"]])\n",
        "\n",
        "regr.fit(train_x, train_y)\n",
        "\n",
        "print (\"Coef \",regr.coef_)\n",
        "print (\"Intercept \",regr.intercept_)"
      ],
      "execution_count": 54,
      "outputs": [
        {
          "output_type": "stream",
          "name": "stdout",
          "text": [
            "Coef  [[-0.52706656]]\n",
            "Intercept  [8.34189454]\n"
          ]
        }
      ]
    },
    {
      "cell_type": "code",
      "metadata": {
        "id": "qp9KfmJB5S3i"
      },
      "source": [
        "def get_regression_predictions(input_features,intercept,slope):\n",
        "    predicted_values = input_features*slope + intercept\n",
        "    \n",
        "    return predicted_values"
      ],
      "execution_count": 55,
      "outputs": []
    },
    {
      "cell_type": "code",
      "metadata": {
        "colab": {
          "base_uri": "https://localhost:8080/"
        },
        "id": "w5a7J_VG5S3i",
        "outputId": "f3f3ec19-1193-4da3-c90b-dc2e8162501a"
      },
      "source": [
        "visitas_site = 5\n",
        "compras_vs_web_visit = get_regression_predictions(visitas_site,regr.intercept_[0],regr.coef_[0][0])\n",
        "print (\"Estimated:\",compras_vs_web_visit)"
      ],
      "execution_count": 56,
      "outputs": [
        {
          "output_type": "stream",
          "name": "stdout",
          "text": [
            "Estimated: 5.706561746851513\n"
          ]
        }
      ]
    },
    {
      "cell_type": "code",
      "metadata": {
        "colab": {
          "base_uri": "https://localhost:8080/"
        },
        "id": "TEmcZNcw5S3j",
        "outputId": "0ad4de72-c01a-46c1-e5de-35b448245770"
      },
      "source": [
        "#Catalog \n",
        "regr = linear_model.LinearRegression()\n",
        "\n",
        "train_x1 = np.array(train[[\"NumWebVisitsMonth\"]])\n",
        "train_y1 = np.array(train[[\"NumCatalogPurchases\"]])\n",
        "\n",
        "regr.fit(train_x, train_y)\n",
        "\n",
        "print (\"Coef \",regr.coef_)\n",
        "print (\"Intercept \",regr.intercept_)"
      ],
      "execution_count": 57,
      "outputs": [
        {
          "output_type": "stream",
          "name": "stdout",
          "text": [
            "Coef  [[-0.52706656]]\n",
            "Intercept  [8.34189454]\n"
          ]
        }
      ]
    },
    {
      "cell_type": "code",
      "metadata": {
        "id": "-_fJuMjH5S3k"
      },
      "source": [
        "def get_regression_predictions(input_features,intercept,slope):\n",
        "    predicted_values = input_features*slope + intercept\n",
        "    \n",
        "    return predicted_values"
      ],
      "execution_count": 58,
      "outputs": []
    },
    {
      "cell_type": "code",
      "metadata": {
        "colab": {
          "base_uri": "https://localhost:8080/"
        },
        "id": "dKPTU0xr5S3k",
        "outputId": "0efefe30-cd44-44b2-a6a2-574a4dbdd182"
      },
      "source": [
        "visitas_site = 5\n",
        "compras_vs_web_visit = get_regression_predictions(visitas_site,regr.intercept_[0],regr.coef_[0][0])\n",
        "print (\"Estimated:\",compras_vs_web_visit)"
      ],
      "execution_count": 59,
      "outputs": [
        {
          "output_type": "stream",
          "name": "stdout",
          "text": [
            "Estimated: 5.706561746851513\n"
          ]
        }
      ]
    }
  ]
}